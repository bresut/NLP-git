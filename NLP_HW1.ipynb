{
  "nbformat": 4,
  "nbformat_minor": 0,
  "metadata": {
    "colab": {
      "name": "NLP-HW1.ipynb",
      "provenance": [],
      "collapsed_sections": [],
      "authorship_tag": "ABX9TyNYZYeOzEP6eqtrkAFXl1qF",
      "include_colab_link": true
    },
    "kernelspec": {
      "name": "python3",
      "display_name": "Python 3"
    },
    "language_info": {
      "name": "python"
    }
  },
  "cells": [
    {
      "cell_type": "markdown",
      "metadata": {
        "id": "view-in-github",
        "colab_type": "text"
      },
      "source": [
        "<a href=\"https://colab.research.google.com/github/bresut/NLP-git/blob/master/NLP_HW1.ipynb\" target=\"_parent\"><img src=\"https://colab.research.google.com/assets/colab-badge.svg\" alt=\"Open In Colab\"/></a>"
      ]
    },
    {
      "cell_type": "code",
      "metadata": {
        "id": "QyS6DJ_fBPyv"
      },
      "source": [
        "import jieba\n",
        "import jieba.analyse\n",
        "import urllib.request"
      ],
      "execution_count": 69,
      "outputs": []
    },
    {
      "cell_type": "markdown",
      "metadata": {
        "id": "hf39iHwdHoL2"
      },
      "source": [
        "analyse use on tags\n",
        "\n",
        "urllib use on url"
      ]
    },
    {
      "cell_type": "code",
      "metadata": {
        "id": "A8Vo2-huCyu8"
      },
      "source": [
        "i=1\n",
        "url = 'https://raw.githubusercontent.com/cjwu/cjwu.github.io/master/courses/nlp/hw1-dataset.txt'"
      ],
      "execution_count": 70,
      "outputs": []
    },
    {
      "cell_type": "code",
      "metadata": {
        "id": "Ko6ZM6aIIJx6"
      },
      "source": [
        "def tf(word, count):\n",
        "  return count[word] / sum(count.values())\n",
        "def n_containing(word, count_list):\n",
        "  return sum (str(1 for count in count_list if word in count))\n",
        "def idf(word, count_list):\n",
        "  return math.log(len(count_list) / (n_containing(word, count_list)))\n",
        "def tfidf(word, count, count_list):\n",
        "  return tf(word, count) * idf(word, count_list)"
      ],
      "execution_count": 140,
      "outputs": []
    },
    {
      "cell_type": "code",
      "metadata": {
        "id": "uQdfaAXVNoUL",
        "colab": {
          "base_uri": "https://localhost:8080/"
        },
        "outputId": "7888a83f-1e7d-4edd-ae5f-7695795196bb"
      },
      "source": [
        "m = 1\n",
        "word_num = []\n",
        "weight = []\n",
        "cipin = {}\n",
        "ans = []\n",
        "topic_num = 0\n",
        "topic = urllib.request.urlopen(url)\n",
        "for line in topic.readlines():\n",
        "  convert = line.decode('utf-8')\n",
        "  read = jieba.cut(convert, cut_all=False)\n",
        "  for word in read:\n",
        "    if word not in cipin.keys():\n",
        "        cipin[word] = 0\n",
        "    cipin[word] += 1\n",
        "    \n",
        "  tags = jieba.analyse.extract_tags(line, topK=1, withWeight=True)\n",
        "  for tag in tags:\n",
        "    word_num.append(m)\n",
        "    weight.append(tag[1])\n",
        "    ans.append(cipin[tag[0]])\n",
        "    #print( m ,\"Rank:\", tag[0], 'tf-idf weight:', tag[1])\n",
        "    m = m+1\n",
        "  topic_num = topic_num + 1\n",
        "print(topic_num)"
      ],
      "execution_count": 144,
      "outputs": [
        {
          "output_type": "stream",
          "text": [
            "418202\n"
          ],
          "name": "stdout"
        }
      ]
    },
    {
      "cell_type": "code",
      "metadata": {
        "id": "iDzBhPReC5HY"
      },
      "source": [
        "m = 1\n",
        "word_num = []\n",
        "weight = []\n",
        "cipin = {}\n",
        "\n",
        "topic2 = urllib.request.urlopen(url)\n",
        "data = topic2.read() \n",
        "convert = data.decode('utf-8')\n",
        "read = jieba.cut(convert, cut_all=False)"
      ],
      "execution_count": 145,
      "outputs": []
    },
    {
      "cell_type": "code",
      "metadata": {
        "id": "CXX3-cxD-5dM"
      },
      "source": [
        "def draw1(word_num, weight):\n",
        "  plt.plot(word_num, weight)\n",
        "  plt.xlabel('Word No') # 設定x軸標題\n",
        "  plt.xlabel('Weight')\n",
        "  plt.title('occur frequence draw') # 設定圖表標題\n",
        "  plt.show()"
      ],
      "execution_count": 101,
      "outputs": []
    },
    {
      "cell_type": "code",
      "metadata": {
        "colab": {
          "base_uri": "https://localhost:8080/",
          "height": 295
        },
        "id": "A0kQ8d16HIAV",
        "outputId": "d8d7ab2f-663a-4cff-f24d-5bcb4ce703c5"
      },
      "source": [
        "draw1(word_num, weight)"
      ],
      "execution_count": 102,
      "outputs": [
        {
          "output_type": "display_data",
          "data": {
            "image/png": "[encoded data removed]",
            "text/plain": [
              "<Figure size 432x288 with 1 Axes>"
            ]
          },
          "metadata": {
            "tags": [],
            "needs_background": "light"
          }
        }
      ]
    },
    {
      "cell_type": "code",
      "metadata": {
        "id": "_ekHn_cXHQxC"
      },
      "source": [
        "def draw2(word_num, ans):\n",
        "  ans.sort(reverse=True)\n",
        "  plt.plot(word_num, ans)\n",
        "  plt.xlabel('Word No') # 設定x軸標題\n",
        "  plt.xlabel('Weight')\n",
        "  plt.title('occur frequence draw') # 設定圖表標題\n",
        "  plt.show()"
      ],
      "execution_count": 103,
      "outputs": []
    },
    {
      "cell_type": "code",
      "metadata": {
        "colab": {
          "base_uri": "https://localhost:8080/",
          "height": 295
        },
        "id": "urVvraVxFJzX",
        "outputId": "2ee1584d-8400-44ff-fafc-de2839993da9"
      },
      "source": [
        "draw2(word_num, ans)"
      ],
      "execution_count": 104,
      "outputs": [
        {
          "output_type": "display_data",
          "data": {
            "image/png": "[encoded data removed]",
            "text/plain": [
              "<Figure size 432x288 with 1 Axes>"
            ]
          },
          "metadata": {
            "tags": [],
            "needs_background": "light"
          }
        }
      ]
    }
  ]
}