{
  "nbformat": 4,
  "nbformat_minor": 0,
  "metadata": {
    "colab": {
      "name": "NLP-HW1.ipynb",
      "provenance": [],
      "collapsed_sections": [],
      "authorship_tag": "ABX9TyO0CG5VoBtmIZTsxr2nsAAv",
      "include_colab_link": true
    },
    "kernelspec": {
      "name": "python3",
      "display_name": "Python 3"
    },
    "language_info": {
      "name": "python"
    }
  },
  "cells": [
    {
      "cell_type": "markdown",
      "metadata": {
        "id": "view-in-github",
        "colab_type": "text"
      },
      "source": [
        "<a href=\"https://colab.research.google.com/github/bresut/NLP-git/blob/master/NLP_HW1.ipynb\" target=\"_parent\"><img src=\"https://colab.research.google.com/assets/colab-badge.svg\" alt=\"Open In Colab\"/></a>"
      ]
    },
    {
      "cell_type": "code",
      "metadata": {
        "id": "QyS6DJ_fBPyv"
      },
      "source": [
        "import jieba\n",
        "import jieba.analyse\n",
        "import urllib.request"
      ],
      "execution_count": 1,
      "outputs": []
    },
    {
      "cell_type": "markdown",
      "metadata": {
        "id": "hf39iHwdHoL2"
      },
      "source": [
        "analyse use on tags\n",
        "\n",
        "urllib use on url"
      ]
    },
    {
      "cell_type": "code",
      "metadata": {
        "id": "A8Vo2-huCyu8"
      },
      "source": [
        "i=1\n",
        "url = 'https://raw.githubusercontent.com/cjwu/cjwu.github.io/master/courses/nlp/hw1-dataset.txt'\n",
        "topic = urllib.request.urlopen(url)\n",
        "data = topic.read() \n",
        "convert = data.decode('utf-8')"
      ],
      "execution_count": 21,
      "outputs": []
    },
    {
      "cell_type": "code",
      "metadata": {
        "colab": {
          "base_uri": "https://localhost:8080/"
        },
        "id": "iDzBhPReC5HY",
        "outputId": "5ae203a4-bdfd-47f7-a5c9-f79b1516c78a"
      },
      "source": [
        "read = jieba.cut(convert, cut_all=False)\n",
        "tags = jieba.analyse.extract_tags(data, topK=100, withWeight=True)\n",
        "for tag in tags:\n",
        "    print( i ,\"Rank:\", tag[0], 'tf-idf weight:', tag[1])\n",
        "    i = i+1"
      ],
      "execution_count": 22,
      "outputs": [
        {
          "output_type": "stream",
          "text": [
            "1 Rank: 什麼 tf-idf weight: 0.19464509600157406\n",
            "2 Rank: 八卦 tf-idf weight: 0.19420501140555646\n",
            "3 Rank: 台灣 tf-idf weight: 0.12081408131496592\n",
            "4 Rank: 怎麼 tf-idf weight: 0.11186701189176337\n",
            "5 Rank: 肥宅 tf-idf weight: 0.07336596927026089\n",
            "6 Rank: 現在 tf-idf weight: 0.03800903805058438\n",
            "7 Rank: 不會 tf-idf weight: 0.036229733848907944\n",
            "8 Rank: 還是 tf-idf weight: 0.03568381096884812\n",
            "9 Rank: 是不是 tf-idf weight: 0.0355764318510935\n",
            "10 Rank: 一個 tf-idf weight: 0.03550183667549485\n",
            "11 Rank: 中國 tf-idf weight: 0.034474018907481\n",
            "12 Rank: 這樣 tf-idf weight: 0.0325902479818425\n",
            "13 Rank: 怎樣 tf-idf weight: 0.029860633581543415\n",
            "14 Rank: 時候 tf-idf weight: 0.02967528939386879\n",
            "15 Rank: 一樣 tf-idf weight: 0.028691280252032575\n",
            "16 Rank: 真的 tf-idf weight: 0.026822655692091746\n",
            "17 Rank: 沒有 tf-idf weight: 0.026099831518909124\n",
            "18 Rank: ... tf-idf weight: 0.02543259244328046\n",
            "19 Rank: 應該 tf-idf weight: 0.02359936993246231\n",
            "20 Rank: 可以 tf-idf weight: 0.022958278161416924\n",
            "21 Rank: 喜歡 tf-idf weight: 0.02285462328744244\n",
            "22 Rank: 因為 tf-idf weight: 0.022416537025666042\n",
            "23 Rank: 一堆 tf-idf weight: 0.021680457381807062\n",
            "24 Rank: 問題 tf-idf weight: 0.020815837223021518\n",
            "25 Rank: 感覺 tf-idf weight: 0.020714740393380813\n",
            "26 Rank: 哪個 tf-idf weight: 0.020643972612632316\n",
            "27 Rank: 女生 tf-idf weight: 0.02055531365074145\n",
            "28 Rank: 這麼 tf-idf weight: 0.019963253959718225\n",
            "29 Rank: 覺得 tf-idf weight: 0.01862540591413954\n",
            "30 Rank: 這種 tf-idf weight: 0.01824460785582621\n",
            "31 Rank: 美國 tf-idf weight: 0.018055893773830226\n",
            "32 Rank: 正妹 tf-idf weight: 0.016286699255117856\n",
            "33 Rank: 知道 tf-idf weight: 0.015811205555870015\n",
            "34 Rank: 其實 tf-idf weight: 0.01557902144763291\n",
            "35 Rank: 為何 tf-idf weight: 0.015043208250537165\n",
            "36 Rank: 還有 tf-idf weight: 0.014736547867293687\n",
            "37 Rank: 東西 tf-idf weight: 0.014719698395686903\n",
            "38 Rank: 比較 tf-idf weight: 0.01451750473640549\n",
            "39 Rank: 那麼 tf-idf weight: 0.014369229386265786\n",
            "40 Rank: 到底 tf-idf weight: 0.013855929767928526\n",
            "41 Rank: 有人 tf-idf weight: 0.013674560834915146\n",
            "42 Rank: 自己 tf-idf weight: 0.013466423468451874\n",
            "43 Rank: QQ tf-idf weight: 0.013445878342213998\n",
            "44 Rank: 時間 tf-idf weight: 0.013361630984180075\n",
            "45 Rank: 開始 tf-idf weight: 0.013206615845397658\n",
            "46 Rank: 這個 tf-idf weight: 0.012974093137224033\n",
            "47 Rank: 哪裡 tf-idf weight: 0.01282581778708433\n",
            "48 Rank: 不是 tf-idf weight: 0.012758688475732879\n",
            "49 Rank: 沒人 tf-idf weight: 0.012552856347054421\n",
            "50 Rank: 甚麼 tf-idf weight: 0.012468608989020498\n",
            "51 Rank: 出來 tf-idf weight: 0.012320333638880795\n",
            "52 Rank: 日本 tf-idf weight: 0.012127572493474573\n",
            "53 Rank: 那個 tf-idf weight: 0.012054111987493602\n",
            "54 Rank: 發現 tf-idf weight: 0.011993453889709177\n",
            "55 Rank: 中國人 tf-idf weight: 0.011976604418102393\n",
            "56 Rank: 國家 tf-idf weight: 0.011976604418102393\n",
            "57 Rank: 如果 tf-idf weight: 0.01195142064483163\n",
            "58 Rank: 不要 tf-idf weight: 0.011371977189677437\n",
            "59 Rank: 就是 tf-idf weight: 0.011178381502120506\n",
            "60 Rank: 他們 tf-idf weight: 0.010851059714769191\n",
            "61 Rank: 大家 tf-idf weight: 0.010829155333451544\n",
            "62 Rank: 朋友 tf-idf weight: 0.010388757432612226\n",
            "63 Rank: 很多 tf-idf weight: 0.010254718969681581\n",
            "64 Rank: 台北 tf-idf weight: 0.010090151731776114\n",
            "65 Rank: 已經 tf-idf weight: 0.009971517296895042\n",
            "66 Rank: 老師 tf-idf weight: 0.009917598987753332\n",
            "67 Rank: 大學 tf-idf weight: 0.00989737962182519\n",
            "68 Rank: 變成 tf-idf weight: 0.009695185962543778\n",
            "69 Rank: 邊緣 tf-idf weight: 0.009459293360048795\n",
            "70 Rank: 我們 tf-idf weight: 0.0093885255793003\n",
            "71 Rank: 結果 tf-idf weight: 0.0093885255793003\n",
            "72 Rank: 遊戲 tf-idf weight: 0.009065015724450039\n",
            "73 Rank: 不用 tf-idf weight: 0.00885884470039901\n",
            "74 Rank: 手機 tf-idf weight: 0.008744875763921134\n",
            "75 Rank: 一點 tf-idf weight: 0.008717916609350278\n",
            "76 Rank: 看到 tf-idf weight: 0.008670900198239207\n",
            "77 Rank: 多少 tf-idf weight: 0.008670105043160773\n",
            "78 Rank: 男生 tf-idf weight: 0.00855216230787021\n",
            "79 Rank: 別人 tf-idf weight: 0.008535942315997006\n",
            "80 Rank: 當然 tf-idf weight: 0.008482024006855295\n",
            "81 Rank: 10 tf-idf weight: 0.008434845486356299\n",
            "82 Rank: 女友 tf-idf weight: 0.008252324115040545\n",
            "83 Rank: 如何 tf-idf weight: 0.008088109356327164\n",
            "84 Rank: 還好 tf-idf weight: 0.008067527005328399\n",
            "85 Rank: 電影 tf-idf weight: 0.008013608696186688\n",
            "86 Rank: 新聞 tf-idf weight: 0.008013608696186688\n",
            "87 Rank: 還要 tf-idf weight: 0.008003499013222618\n",
            "88 Rank: 韓國 tf-idf weight: 0.007986649541615832\n",
            "89 Rank: 鄉民 tf-idf weight: 0.007952950598402264\n",
            "90 Rank: 起來 tf-idf weight: 0.007770976305048992\n",
            "91 Rank: 根本 tf-idf weight: 0.007719534763027918\n",
            "92 Rank: XD tf-idf weight: 0.007700208524300497\n",
            "93 Rank: 好吃 tf-idf weight: 0.007579158623013259\n",
            "94 Rank: 妹妹 tf-idf weight: 0.007550327706300244\n",
            "95 Rank: 的掛 tf-idf weight: 0.0075384535968753665\n",
            "96 Rank: 不過 tf-idf weight: 0.0073497395148793805\n",
            "97 Rank: 一直 tf-idf weight: 0.007303212591178013\n",
            "98 Rank: .. tf-idf weight: 0.0072486426852386735\n",
            "99 Rank: ptt tf-idf weight: 0.007110477018063041\n",
            "100 Rank: 最強 tf-idf weight: 0.006979051139530123\n"
          ],
          "name": "stdout"
        }
      ]
    }
  ]
}