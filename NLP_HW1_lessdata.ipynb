{
 "cells": [
  {
   "cell_type": "code",
   "execution_count": 1,
   "metadata": {
    "colab": {
     "base_uri": "https://localhost:8080/"
    },
    "id": "QyS6DJ_fBPyv",
    "outputId": "792ef72a-eddc-48c6-bd5b-5b91bae8dc4f"
   },
   "outputs": [
    {
     "name": "stdout",
     "output_type": "stream",
     "text": [
      "Requirement already satisfied: jieba in c:\\users\\s8797\\anaconda3\\lib\\site-packages (0.42.1)\n",
      "Note: you may need to restart the kernel to use updated packages.\n"
     ]
    }
   ],
   "source": [
    "pip install jieba"
   ]
  },
  {
   "cell_type": "code",
   "execution_count": 2,
   "metadata": {},
   "outputs": [
    {
     "name": "stdout",
     "output_type": "stream",
     "text": [
      "Requirement already satisfied: matplotlib in c:\\users\\s8797\\anaconda3\\lib\\site-packages (3.3.4)\n",
      "Requirement already satisfied: kiwisolver>=1.0.1 in c:\\users\\s8797\\anaconda3\\lib\\site-packages (from matplotlib) (1.3.1)\n",
      "Requirement already satisfied: pillow>=6.2.0 in c:\\users\\s8797\\anaconda3\\lib\\site-packages (from matplotlib) (8.2.0)\n",
      "Requirement already satisfied: python-dateutil>=2.1 in c:\\users\\s8797\\anaconda3\\lib\\site-packages (from matplotlib) (2.8.1)\n",
      "Requirement already satisfied: numpy>=1.15 in c:\\users\\s8797\\anaconda3\\lib\\site-packages (from matplotlib) (1.20.1)\n",
      "Requirement already satisfied: cycler>=0.10 in c:\\users\\s8797\\anaconda3\\lib\\site-packages (from matplotlib) (0.10.0)\n",
      "Requirement already satisfied: pyparsing!=2.0.4,!=2.1.2,!=2.1.6,>=2.0.3 in c:\\users\\s8797\\anaconda3\\lib\\site-packages (from matplotlib) (2.4.7)\n",
      "Requirement already satisfied: six in c:\\users\\s8797\\anaconda3\\lib\\site-packages (from cycler>=0.10->matplotlib) (1.15.0)\n",
      "Note: you may need to restart the kernel to use updated packages.\n"
     ]
    }
   ],
   "source": [
    "pip install matplotlib"
   ]
  },
  {
   "cell_type": "code",
   "execution_count": 23,
   "metadata": {
    "id": "K1jjrzKxx2VR"
   },
   "outputs": [],
   "source": [
    "import jieba\n",
    "import jieba.analyse\n",
    "import urllib.request\n",
    "import matplotlib.pyplot as plt\n",
    "import math"
   ]
  },
  {
   "cell_type": "markdown",
   "metadata": {
    "id": "hf39iHwdHoL2"
   },
   "source": [
    "analyse use on tags\n",
    "\n",
    "urllib use on url"
   ]
  },
  {
   "cell_type": "code",
   "execution_count": 24,
   "metadata": {
    "id": "A8Vo2-huCyu8"
   },
   "outputs": [],
   "source": [
    "i=1\n",
    "#url = 'https://raw.githubusercontent.com/cjwu/cjwu.github.io/master/courses/nlp/hw1-dataset.txt'\n",
    "f = open(\"topic.txt\",'r',encoding=\"utf-8\")"
   ]
  },
  {
   "cell_type": "code",
   "execution_count": 25,
   "metadata": {
    "id": "Ko6ZM6aIIJx6"
   },
   "outputs": [],
   "source": [
    "def get_tokens(text):\n",
    "    lowers = text.lower()\n",
    "    #remove the punctuation using the character deletion step of translate\n",
    "    remove_punctuation_map = dict((ord(char), None) for char in string.punctuation)\n",
    "    no_punctuation = lowers.translate(remove_punctuation_map)\n",
    "    tokens = nltk.word_tokenize(no_punctuation)\n",
    "    return tokens\n",
    "def is_chinese(uchar):\n",
    "    if uchar >= u'\\u4e00' and uchar <= u'\\u9fa5':\n",
    "        return True\n",
    "    else:\n",
    "        return False\n",
    "\n",
    "def format_str(content):\n",
    "    content_str = ''\n",
    "    for i in content:\n",
    "        if is_chinese(i):\n",
    "            content_str = content_str + ｉ\n",
    "    return content_str"
   ]
  },
  {
   "cell_type": "code",
   "execution_count": 26,
   "metadata": {},
   "outputs": [],
   "source": [
    "def tf(line_fre,line_word_num):\n",
    "    return line_fre/line_word_num\n",
    "def idf(m,fre):\n",
    "    return math.log(m/fre)\n",
    "def tf_idf(a,b):\n",
    "    return a*b"
   ]
  },
  {
   "cell_type": "code",
   "execution_count": 27,
   "metadata": {},
   "outputs": [],
   "source": [
    "m = 1#行數\n",
    "l= 0\n",
    "line_num_list = []#每行詞數\n",
    "fre = {}#全部文章單詞頻率\n",
    "word_fre = []\n",
    "word_fre_show = []\n",
    "word_no = []#字詞編號\n",
    "word_no_show = []\n",
    "tfscore = []\n",
    "tfname = []\n",
    "idfscore = []\n",
    "tf_idfscore = []\n",
    "tf_idfscore_show = []"
   ]
  },
  {
   "cell_type": "code",
   "execution_count": 28,
   "metadata": {
    "colab": {
     "base_uri": "https://localhost:8080/",
     "height": 1000
    },
    "id": "uQdfaAXVNoUL",
    "outputId": "7b3f5c64-53ea-49df-d9cd-d9081a0f5436"
   },
   "outputs": [
    {
     "name": "stdout",
     "output_type": "stream",
     "text": [
      "topic cut done!\n",
      "TF_IDF compute done!\n",
      "txt close\n"
     ]
    }
   ],
   "source": [
    "#topic = urllib.request.urlopen(url)\n",
    "for line in f.readlines():\n",
    "    line_word_num = 0#一行詞數\n",
    "    line_fre = {}#一行全字詞頻\n",
    "    convert = format_str(line)\n",
    "    words = jieba.cut(convert, cut_all=False)\n",
    "    for word in words:\n",
    "        line_word_num = line_word_num + 1\n",
    "        #print (word)\n",
    "        line_fre[word]=line_fre.get(word,0)+1\n",
    "        fre[word]=fre.get(word,0)+1\n",
    "    line_items=list(line_fre.items())\n",
    "    line_num_list.append(line_word_num)\n",
    "    k=0\n",
    "    while True:\n",
    "        try:\n",
    "            line_word,line_count=line_items[k]#line_count一行某單詞數\n",
    "            tfname.append(line_word)\n",
    "            tfscore.append(tf(line_count, line_word_num))\n",
    "            k=k+1\n",
    "        except:\n",
    "            break;\n",
    "    items=list(fre.items())\n",
    "    m = m +1\n",
    "items.sort(key=lambda x:x[1],reverse=True)\n",
    "g=0\n",
    "print(\"topic cut done!\")\n",
    "while True:\n",
    "    try:\n",
    "        n=0\n",
    "        word,count=items[g]#count某單詞總數\n",
    "        word_fre.append(count)\n",
    "        idfscore.append(idf(m,count))\n",
    "        #print(\"{0:0}  {1:<1}:{2:>2}\".format(g,word,count))\n",
    "        while True:\n",
    "            try:\n",
    "                if word == tfname[n]:\n",
    "                    tf_idfscore.append(tf_idf(tfscore[n],idfscore[g]))\n",
    "                n = n+1\n",
    "            except:\n",
    "                break\n",
    "        word_no.append(g)\n",
    "        g = g+1\n",
    "    except:\n",
    "        break\n",
    "print(\"TF_IDF compute done!\")\n",
    "tf_idfscore.sort(reverse = True)\n",
    "for i in range(100):\n",
    "    tf_idfscore_show.append(tf_idfscore[i])\n",
    "    word_no_show.append(word_no[i])\n",
    "    word_fre_show.append(word_fre[i])\n",
    "f.close()\n",
    "print(\"txt close\")"
   ]
  },
  {
   "cell_type": "code",
   "execution_count": 35,
   "metadata": {
    "id": "CXX3-cxD-5dM"
   },
   "outputs": [],
   "source": [
    "def draw1(word_no_show, tf_idfscore_show):\n",
    "    plt.plot(word_no_show, tf_idfscore_show)\n",
    "    plt.xlabel('Word No') # 設定x軸標題\n",
    "    plt.ylabel('Weight')\n",
    "    plt.title('occur frequence draw') # 設定圖表標題\n",
    "    plt.show()"
   ]
  },
  {
   "cell_type": "code",
   "execution_count": 36,
   "metadata": {
    "colab": {
     "base_uri": "https://localhost:8080/",
     "height": 295
    },
    "id": "A0kQ8d16HIAV",
    "outputId": "d8d7ab2f-663a-4cff-f24d-5bcb4ce703c5"
   },
   "outputs": [
    {
     "data": {
      "image/png": "[encoded data removed]",
      "text/plain": [
       "<Figure size 432x288 with 1 Axes>"
      ]
     },
     "metadata": {
      "needs_background": "light"
     },
     "output_type": "display_data"
    }
   ],
   "source": [
    "draw1(word_no_show, tf_idfscore_show)"
   ]
  },
  {
   "cell_type": "code",
   "execution_count": 37,
   "metadata": {
    "id": "_ekHn_cXHQxC"
   },
   "outputs": [],
   "source": [
    "def draw2(word_no_show, word_fre_show):\n",
    "    word_fre_show.sort(reverse=True)\n",
    "    plt.plot(word_no_show, word_fre_show)\n",
    "    plt.xlabel('Word No') # 設定x軸標題\n",
    "    plt.ylabel('Word num')\n",
    "    plt.title('occur frequence draw') # 設定圖表標題\n",
    "    plt.show()"
   ]
  },
  {
   "cell_type": "code",
   "execution_count": 38,
   "metadata": {
    "colab": {
     "base_uri": "https://localhost:8080/",
     "height": 295
    },
    "id": "urVvraVxFJzX",
    "outputId": "2ee1584d-8400-44ff-fafc-de2839993da9"
   },
   "outputs": [
    {
     "data": {
      "image/png": "[encoded data removed]",
      "text/plain": [
       "<Figure size 432x288 with 1 Axes>"
      ]
     },
     "metadata": {
      "needs_background": "light"
     },
     "output_type": "display_data"
    }
   ],
   "source": [
    "draw2(word_no_show, word_fre_show)"
   ]
  },
  {
   "cell_type": "code",
   "execution_count": null,
   "metadata": {},
   "outputs": [],
   "source": []
  }
 ],
 "metadata": {
  "colab": {
   "collapsed_sections": [],
   "name": "NLP-HW1.ipynb",
   "provenance": []
  },
  "kernelspec": {
   "display_name": "Python 3",
   "language": "python",
   "name": "python3"
  },
  "language_info": {
   "codemirror_mode": {
    "name": "ipython",
    "version": 3
   },
   "file_extension": ".py",
   "mimetype": "text/x-python",
   "name": "python",
   "nbconvert_exporter": "python",
   "pygments_lexer": "ipython3",
   "version": "3.8.8"
  }
 },
 "nbformat": 4,
 "nbformat_minor": 1
}
