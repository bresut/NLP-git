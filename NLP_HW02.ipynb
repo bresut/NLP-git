{
  "nbformat": 4,
  "nbformat_minor": 0,
  "metadata": {
    "colab": {
      "name": "NLP_HW02.ipynb",
      "provenance": [],
      "authorship_tag": "ABX9TyNIgr1PMwHidlUiO4AZs+NN",
      "include_colab_link": true
    },
    "kernelspec": {
      "name": "python3",
      "display_name": "Python 3"
    },
    "language_info": {
      "name": "python"
    },
    "accelerator": "GPU"
  },
  "cells": [
    {
      "cell_type": "markdown",
      "metadata": {
        "id": "view-in-github",
        "colab_type": "text"
      },
      "source": [
        "<a href=\"https://colab.research.google.com/github/bresut/NLP-git/blob/master/NLP_HW02.ipynb\" target=\"_parent\"><img src=\"https://colab.research.google.com/assets/colab-badge.svg\" alt=\"Open In Colab\"/></a>"
      ]
    },
    {
      "cell_type": "code",
      "metadata": {
        "id": "bFU0OGwDACit"
      },
      "source": [
        "# Example： 奇摩電影\n",
        "res = []\n",
        "import requests\n",
        "from bs4 import BeautifulSoup\n",
        "for i in range(1,10000):\n",
        "    url = 'https://movies.yahoo.com.tw/movieinfo_main/'+str(i)\n",
        "    r = requests.get(url)\n",
        "    soup = BeautifulSoup(r.text)\n",
        "    \n",
        "    infos = []\n",
        "    categorys = []\n",
        "    storys = []\n",
        "    updates = []\n",
        "    for d in soup.find_all('div', class_=\"movie_intro_info_r\"):\n",
        "        info = {}\n",
        "        info['名稱'] = d.find('h1').text.strip()\n",
        "        info['上映日期'] = d.span.text.split('上映日期：')[1]\n",
        "        infos.append(info)\n",
        "    for d in soup.find_all('div', class_='level_name_box'):\n",
        "        category = {}\n",
        "        for j in range(1,20):\n",
        "            if d.find('a', href='https://movies.yahoo.com.tw/moviegenre_result.html?genre_id='+str(j)):\n",
        "                category['分類'+str(j)] = d.find('a', href='https://movies.yahoo.com.tw/moviegenre_result.html?genre_id='+str(j)).text.strip()\n",
        "        categorys.append(category)\n",
        "    for d in soup.find_all('div', class_='gray_infobox_inner'):\n",
        "        story = {}\n",
        "        story['劇情介紹'] = d.span.text.strip()\n",
        "        storys.append(story)\n",
        "    for i, j, k in list(zip(infos, categorys, storys)):\n",
        "        res.append(dict(list(i.items()) + list(j.items()) + list(k.items())))\n",
        "\n",
        "res"
      ],
      "execution_count": null,
      "outputs": []
    }
  ]
}