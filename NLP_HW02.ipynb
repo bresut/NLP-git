{
  "nbformat": 4,
  "nbformat_minor": 0,
  "metadata": {
    "colab": {
      "name": "NLP_HW02.ipynb",
      "provenance": [],
      "authorship_tag": "ABX9TyNgui7aicYrFizdgkLS+uS8",
      "include_colab_link": true
    },
    "kernelspec": {
      "name": "python3",
      "display_name": "Python 3"
    },
    "language_info": {
      "name": "python"
    }
  },
  "cells": [
    {
      "cell_type": "markdown",
      "metadata": {
        "id": "view-in-github",
        "colab_type": "text"
      },
      "source": [
        "<a href=\"https://colab.research.google.com/github/bresut/NLP-git/blob/master/NLP_HW02.ipynb\" target=\"_parent\"><img src=\"https://colab.research.google.com/assets/colab-badge.svg\" alt=\"Open In Colab\"/></a>"
      ]
    },
    {
      "cell_type": "code",
      "metadata": {
        "colab": {
          "base_uri": "https://localhost:8080/"
        },
        "id": "bFU0OGwDACit",
        "outputId": "492e3b8f-5a8b-4a3e-c4bb-54963972bb30"
      },
      "source": [
        "# Example： 奇摩電影\n",
        "res = []\n",
        "import requests\n",
        "from bs4 import BeautifulSoup\n",
        "for i in range(3):\n",
        "    url = 'https://movies.yahoo.com.tw/movieinfo_main/'+str(i)\n",
        "    r = requests.get(url)\n",
        "    soup = BeautifulSoup(r.text)\n",
        "    \n",
        "    i = 0\n",
        "    infos = []\n",
        "    imgs = []\n",
        "    storys = []\n",
        "    updates = []\n",
        "    for d in soup.find_all('div', class_=\"movie_intro_info_r\"):\n",
        "        info = {}\n",
        "        info['中文名稱'] = d.find('h1').text.strip()\n",
        "        info['上映日期'] = d.span.text.split('上映日期：')[1]\n",
        "        infos.append(info)\n",
        "    for d in soup.find_all('div', class_='level_name_box'):\n",
        "        img = {}\n",
        "        img['分類'+str(i)] = d.find('a', class_='gabtn').text.strip()\n",
        "        imgs.append(img)\n",
        "    for d in soup.find_all('div', class_='gray_infobox_inner'):\n",
        "        story = {}\n",
        "        story['劇情'] = d.span.text.strip()\n",
        "        storys.append(story)\n",
        "        i = i+1\n",
        "    for i, j, k in list(zip(infos, imgs, storys)):\n",
        "        res.append(dict(list(i.items()) + list(j.items()) + list(k.items())))\n",
        "\n",
        "res"
      ],
      "execution_count": 2,
      "outputs": [
        {
          "output_type": "execute_result",
          "data": {
            "text/plain": [
              "[{'上映日期': '2001-10-12',\n",
              "  '中文名稱': '一世狂野',\n",
              "  '分類0': '劇情',\n",
              "  '劇情': '喬治戎格一生都在追求所謂的美國夢，也就是享受美好富裕的生活，但是他卻不願像他父親那樣一輩子都只是個出賣勞力的建築工人。於是他搬到陽光明媚的加州，靠著販賣大麻賺錢，起初，他販毒只是為了享受自由自在的生活，但是當他野心越來越大，他的勢力也日益坐大之際，卻在此時被捕入獄。 他在牢裡認識一個能言善道，自稱熟識哥倫比亞販毒集團的牢友狄亞哥，他出獄後果真把當時勢力最大的毒梟艾斯科巴介紹給喬治認識，艾斯科巴計畫將古柯鹼大量引進美國的迪斯可舞廳，希望能引領一股吸毒狂歡的風潮。除了毒品供應商之外，狄亞哥也介紹了一個美艷又狂野的女人瑪莎給喬治，他們瘋狂相愛，之後馬莎還替他生下一個可愛的女兒克莉絲汀娜，也是喬治一生的最愛。喬治很快就靠著販毒發大財，他還得買一棟大房子專門存放每天賺進來的大把鈔票，但是日進斗金卻整天提心吊膽的生活卻讓喬治開始省思，到底他要繼續過著揮霍富裕的生活，還是為了自己心愛的女兒應該轉性投資正當的事業？可是這時聯邦調查局的探員，也開始盯上毒源禍首的喬治……'},\n",
              " {'上映日期': '2001-10-13',\n",
              "  '中文名稱': '玩命關頭',\n",
              "  '分類0': '動作',\n",
              "  '劇情': '唐米尼杜洛托是洛城街頭賽車界的老大哥，他身邊有一群忠心耿耿的手下，他白天忙著組裝高性能跑車，晚上則是開著他的愛車，動輒以一次一萬美元的賭注和別人軋車。布萊恩也渴望接受極速的挑戰，他對自己的駕駛技術很有信心，但是在旁觀者的眼中他只是一個菜鳥，他開了一輛超炫的跑車想和唐老大一較高下，也希望得到他的青睞，當比賽結束，布萊恩輸得一塌塗地之後，警方接獲風聲前來取締，布萊恩在無意間從一名心狠手辣的幫派份子強尼手中救了唐老大一命，於是他就被納入唐老大的權力核心，唐老大的妹妹蜜雅也對布萊恩產生好感，但是他們都不知道布萊恩其實是一名臥底警探。布萊恩滲入賽車圈的目的是調查一連串的卡車搶案，嫌犯都是開著跑車的蒙面人，警方和聯邦調查局希望能儘早逮到搶匪，以免卡車司機採取激烈的手段對這些搶匪進行報復行動，其中最有嫌疑的就是唐老大和強尼。正當唐老大和強尼形成水火不相容的情勢。布萊恩和唐老大兄妹的關係卻越來越深，他不但和唐老大結為好友，更忍不住對蜜雅產生好感，但是他也同時承受來自警方和ＦＢＩ的壓力，必須儘快查出誰才是真正的搶匪，他在天人交戰之際，在法律和友情之間，必須做出困難的決定。'}]"
            ]
          },
          "metadata": {
            "tags": []
          },
          "execution_count": 2
        }
      ]
    }
  ]
}