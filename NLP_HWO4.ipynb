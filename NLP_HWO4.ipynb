{
  "nbformat": 4,
  "nbformat_minor": 0,
  "metadata": {
    "colab": {
      "name": "NLP_HWO4.ipynb",
      "provenance": [],
      "authorship_tag": "ABX9TyP9JyibEkL3Tz1fIdGvmOCv",
      "include_colab_link": true
    },
    "kernelspec": {
      "name": "python3",
      "display_name": "Python 3"
    },
    "language_info": {
      "name": "python"
    }
  },
  "cells": [
    {
      "cell_type": "markdown",
      "metadata": {
        "id": "view-in-github",
        "colab_type": "text"
      },
      "source": [
        "<a href=\"https://colab.research.google.com/github/bresut/NLP-git/blob/master/NLP_HWO4.ipynb\" target=\"_parent\"><img src=\"https://colab.research.google.com/assets/colab-badge.svg\" alt=\"Open In Colab\"/></a>"
      ]
    },
    {
      "cell_type": "code",
      "metadata": {
        "id": "vMp7XtJM2vok",
        "colab": {
          "base_uri": "https://localhost:8080/"
        },
        "outputId": "acd1332d-80aa-4aa9-8498-bca6882384e8"
      },
      "source": [
        "pip install opencc-python-reimplemented"
      ],
      "execution_count": null,
      "outputs": [
        {
          "output_type": "stream",
          "text": [
            "Collecting opencc-python-reimplemented\n",
            "  Downloading opencc-python-reimplemented-0.1.6.tar.gz (484 kB)\n",
            "\u001b[?25l\r\u001b[K     |▊                               | 10 kB 24.6 MB/s eta 0:00:01\r\u001b[K     |█▍                              | 20 kB 31.8 MB/s eta 0:00:01\r\u001b[K     |██                              | 30 kB 13.2 MB/s eta 0:00:01\r\u001b[K     |██▊                             | 40 kB 9.5 MB/s eta 0:00:01\r\u001b[K     |███▍                            | 51 kB 5.4 MB/s eta 0:00:01\r\u001b[K     |████                            | 61 kB 5.9 MB/s eta 0:00:01\r\u001b[K     |████▊                           | 71 kB 5.7 MB/s eta 0:00:01\r\u001b[K     |█████▍                          | 81 kB 6.4 MB/s eta 0:00:01\r\u001b[K     |██████                          | 92 kB 6.9 MB/s eta 0:00:01\r\u001b[K     |██████▊                         | 102 kB 5.0 MB/s eta 0:00:01\r\u001b[K     |███████▍                        | 112 kB 5.0 MB/s eta 0:00:01\r\u001b[K     |████████▏                       | 122 kB 5.0 MB/s eta 0:00:01\r\u001b[K     |████████▉                       | 133 kB 5.0 MB/s eta 0:00:01\r\u001b[K     |█████████▌                      | 143 kB 5.0 MB/s eta 0:00:01\r\u001b[K     |██████████▏                     | 153 kB 5.0 MB/s eta 0:00:01\r\u001b[K     |██████████▉                     | 163 kB 5.0 MB/s eta 0:00:01\r\u001b[K     |███████████▌                    | 174 kB 5.0 MB/s eta 0:00:01\r\u001b[K     |████████████▏                   | 184 kB 5.0 MB/s eta 0:00:01\r\u001b[K     |████████████▉                   | 194 kB 5.0 MB/s eta 0:00:01\r\u001b[K     |█████████████▌                  | 204 kB 5.0 MB/s eta 0:00:01\r\u001b[K     |██████████████▏                 | 215 kB 5.0 MB/s eta 0:00:01\r\u001b[K     |██████████████▉                 | 225 kB 5.0 MB/s eta 0:00:01\r\u001b[K     |███████████████▌                | 235 kB 5.0 MB/s eta 0:00:01\r\u001b[K     |████████████████▎               | 245 kB 5.0 MB/s eta 0:00:01\r\u001b[K     |█████████████████               | 256 kB 5.0 MB/s eta 0:00:01\r\u001b[K     |█████████████████▋              | 266 kB 5.0 MB/s eta 0:00:01\r\u001b[K     |██████████████████▎             | 276 kB 5.0 MB/s eta 0:00:01\r\u001b[K     |███████████████████             | 286 kB 5.0 MB/s eta 0:00:01\r\u001b[K     |███████████████████▋            | 296 kB 5.0 MB/s eta 0:00:01\r\u001b[K     |████████████████████▎           | 307 kB 5.0 MB/s eta 0:00:01\r\u001b[K     |█████████████████████           | 317 kB 5.0 MB/s eta 0:00:01\r\u001b[K     |█████████████████████▋          | 327 kB 5.0 MB/s eta 0:00:01\r\u001b[K     |██████████████████████▎         | 337 kB 5.0 MB/s eta 0:00:01\r\u001b[K     |███████████████████████         | 348 kB 5.0 MB/s eta 0:00:01\r\u001b[K     |███████████████████████▊        | 358 kB 5.0 MB/s eta 0:00:01\r\u001b[K     |████████████████████████▍       | 368 kB 5.0 MB/s eta 0:00:01\r\u001b[K     |█████████████████████████       | 378 kB 5.0 MB/s eta 0:00:01\r\u001b[K     |█████████████████████████▊      | 389 kB 5.0 MB/s eta 0:00:01\r\u001b[K     |██████████████████████████▍     | 399 kB 5.0 MB/s eta 0:00:01\r\u001b[K     |███████████████████████████     | 409 kB 5.0 MB/s eta 0:00:01\r\u001b[K     |███████████████████████████▊    | 419 kB 5.0 MB/s eta 0:00:01\r\u001b[K     |████████████████████████████▍   | 430 kB 5.0 MB/s eta 0:00:01\r\u001b[K     |█████████████████████████████   | 440 kB 5.0 MB/s eta 0:00:01\r\u001b[K     |█████████████████████████████▊  | 450 kB 5.0 MB/s eta 0:00:01\r\u001b[K     |██████████████████████████████▍ | 460 kB 5.0 MB/s eta 0:00:01\r\u001b[K     |███████████████████████████████ | 471 kB 5.0 MB/s eta 0:00:01\r\u001b[K     |███████████████████████████████▉| 481 kB 5.0 MB/s eta 0:00:01\r\u001b[K     |████████████████████████████████| 484 kB 5.0 MB/s \n",
            "\u001b[?25hBuilding wheels for collected packages: opencc-python-reimplemented\n",
            "  Building wheel for opencc-python-reimplemented (setup.py) ... \u001b[?25l\u001b[?25hdone\n",
            "  Created wheel for opencc-python-reimplemented: filename=opencc_python_reimplemented-0.1.6-py2.py3-none-any.whl size=486150 sha256=026ccde2070ccddf20fbecbe38c60b9260c29608290af6cd18c69e15208feb82\n",
            "  Stored in directory: /root/.cache/pip/wheels/4e/e2/60/d062d260be08788bb389521544a8fc173de9a9a78d6a593344\n",
            "Successfully built opencc-python-reimplemented\n",
            "Installing collected packages: opencc-python-reimplemented\n",
            "Successfully installed opencc-python-reimplemented-0.1.6\n"
          ],
          "name": "stdout"
        }
      ]
    },
    {
      "cell_type": "code",
      "metadata": {
        "id": "Ns-g2YcU-LY_"
      },
      "source": [
        "import pandas as pd\n",
        "from gensim.models.word2vec import Word2Vec\n",
        "from opencc import OpenCC\n",
        "import json\n",
        "import numpy as np"
      ],
      "execution_count": null,
      "outputs": []
    },
    {
      "cell_type": "code",
      "metadata": {
        "colab": {
          "base_uri": "https://localhost:8080/"
        },
        "id": "kaYBLTV3KsiA",
        "outputId": "f4a0428e-b7c6-4ece-bc99-1b71d2135d93"
      },
      "source": [
        "print(chr(77))"
      ],
      "execution_count": 31,
      "outputs": [
        {
          "output_type": "stream",
          "text": [
            "M\n"
          ],
          "name": "stdout"
        }
      ]
    },
    {
      "cell_type": "code",
      "metadata": {
        "colab": {
          "base_uri": "https://localhost:8080/"
        },
        "id": "-CnhBq9y4k4j",
        "outputId": "4f60a9f3-dc8c-4baa-a353-448c45168a80"
      },
      "source": [
        "#讀檔\n",
        "import json\n",
        "\n",
        "data = []\n",
        "for i in range(65,78):\n",
        "    range_2 = 101\n",
        "    if i == 77:\n",
        "        range_2 = 74\n",
        "    for j in range(range_2):\n",
        "        if j<10:\n",
        "          path = 'wiki_zh/A' + chr(i) + '/wiki_0' + str(j)\n",
        "        else:\n",
        "          path = 'wiki_zh/A' + chr(i) + '/wiki_' + str(j)\n",
        "          input_file = open(path, encoding = 'utf8')\n",
        "          for line in input_file.readlines():\n",
        "              data.append(json.loads(line))\n",
        "          input_file.close()"
      ],
      "execution_count": 30,
      "outputs": [
        {
          "output_type": "stream",
          "text": [
            "B\n"
          ],
          "name": "stdout"
        }
      ]
    },
    {
      "cell_type": "code",
      "metadata": {
        "id": "9AmtSX5hOztl"
      },
      "source": [
        "cc = OpenCC('s2t')\n",
        "for element in data:\n",
        "    element['text'] = cc.convert(element['text'])"
      ],
      "execution_count": null,
      "outputs": []
    },
    {
      "cell_type": "code",
      "metadata": {
        "id": "Gu01O54bRcMH"
      },
      "source": [
        "cut_words = []\n",
        "for i in data:\n",
        "    cut_words.append([' '.join(list(jieba.cut(i['text'],cut_all=False)))])\n",
        "with open('output.txt','wb') as fW:\n",
        "    for i in range(len(cut_words)):\n",
        "        fW.write(cut_words[i][0]+'\\n'.encode('utf-8'))"
      ],
      "execution_count": null,
      "outputs": []
    },
    {
      "cell_type": "code",
      "metadata": {
        "id": "EDQtUphGSvL8"
      },
      "source": [
        "myword2vec = word2vec('corpusSegDone.txt', 'corpusWord2Vec.txt', size = 250, iter = 10 , sg = 1)"
      ],
      "execution_count": null,
      "outputs": []
    },
    {
      "cell_type": "code",
      "metadata": {
        "id": "HpzyXfR7V-7S"
      },
      "source": [
        "myword2vec.save('word2vec.model')\n",
        "model = Word2Vec.load('word2vec.model')"
      ],
      "execution_count": null,
      "outputs": []
    },
    {
      "cell_type": "code",
      "metadata": {
        "id": "pjXpiz2QVary"
      },
      "source": [
        "word = '利用'\n",
        "n = 20\n",
        "\n",
        "metrics = np.dot(model.vectors, model[word].T)\n",
        "best = np.argsort(metrics)[::-1][1:n+1]"
      ],
      "execution_count": null,
      "outputs": []
    },
    {
      "cell_type": "code",
      "metadata": {
        "id": "mkkv1K0hVwef"
      },
      "source": [
        ""
      ],
      "execution_count": null,
      "outputs": []
    }
  ]
}